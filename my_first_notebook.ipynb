{
 "cells": [
  {
   "cell_type": "code",
   "execution_count": 3,
   "id": "29af47eb",
   "metadata": {},
   "outputs": [],
   "source": [
    "import pandas as pd\n",
    "import numpy as np\n",
    "import matplotlib.pyplot as plt\n",
    "import seaborn as sns"
   ]
  },
  {
   "cell_type": "code",
   "execution_count": 4,
   "id": "4652798f",
   "metadata": {},
   "outputs": [],
   "source": [
    "# Load the data\n",
    "df = pd.read_csv('IT Salary Survey EU  2020.csv')"
   ]
  },
  {
   "cell_type": "code",
   "execution_count": 5,
   "id": "7d99e601",
   "metadata": {},
   "outputs": [
    {
     "name": "stdout",
     "output_type": "stream",
     "text": [
      "             Timestamp   Age Gender    City           Position   \\\n",
      "0  24/11/2020 11:14:15  26.0   Male  Munich   Software Engineer   \n",
      "1  24/11/2020 11:14:16  26.0   Male  Berlin   Backend Developer   \n",
      "2  24/11/2020 11:14:21  29.0   Male  Berlin   Software Engineer   \n",
      "3  24/11/2020 11:15:24  28.0   Male  Berlin  Frontend Developer   \n",
      "4  24/11/2020 11:15:46  37.0   Male  Berlin   Backend Developer   \n",
      "\n",
      "  Total years of experience Years of experience in Germany Seniority level  \\\n",
      "0                         5                              3          Senior   \n",
      "1                         7                              4          Senior   \n",
      "2                        12                              6            Lead   \n",
      "3                         4                              1          Junior   \n",
      "4                        17                              6          Senior   \n",
      "\n",
      "  Your main technology / programming language  \\\n",
      "0                                  TypeScript   \n",
      "1                                        Ruby   \n",
      "2                     Javascript / Typescript   \n",
      "3                                  Javascript   \n",
      "4                                     C# .NET   \n",
      "\n",
      "  Other technologies/programming languages you use often  ...  \\\n",
      "0                    Kotlin, Javascript / Typescript      ...   \n",
      "1                                                NaN      ...   \n",
      "2                    Javascript / Typescript, Docker      ...   \n",
      "3                                                NaN      ...   \n",
      "4                             .NET, SQL, AWS, Docker      ...   \n",
      "\n",
      "   Annual bonus+stocks one year ago. Only answer if staying in same country  \\\n",
      "0                                              10000                          \n",
      "1                                               5000                          \n",
      "2                                             100000                          \n",
      "3                                                NaN                          \n",
      "4                                                NaN                          \n",
      "\n",
      "  Number of vacation days           Employment status   Сontract duration  \\\n",
      "0                      30          Full-time employee  Unlimited contract   \n",
      "1                      28          Full-time employee  Unlimited contract   \n",
      "2                      30  Self-employed (freelancer)  Temporary contract   \n",
      "3                      24          Full-time employee  Unlimited contract   \n",
      "4                      29          Full-time employee  Unlimited contract   \n",
      "\n",
      "  Main language at work Company size Company type  \\\n",
      "0               English       51-100      Product   \n",
      "1               English     101-1000      Product   \n",
      "2               English     101-1000      Product   \n",
      "3               English       51-100      Startup   \n",
      "4               English     101-1000      Product   \n",
      "\n",
      "  Have you lost your job due to the coronavirus outbreak?  \\\n",
      "0                                                 No        \n",
      "1                                                 No        \n",
      "2                                                Yes        \n",
      "3                                                 No        \n",
      "4                                                 No        \n",
      "\n",
      "  Have you been forced to have a shorter working week (Kurzarbeit)? If yes, how many hours per week  \\\n",
      "0                                                NaN                                                  \n",
      "1                                                NaN                                                  \n",
      "2                                                NaN                                                  \n",
      "3                                                NaN                                                  \n",
      "4                                                NaN                                                  \n",
      "\n",
      "  Have you received additional monetary support from your employer due to Work From Home? If yes, how much in 2020 in EUR  \n",
      "0                                                NaN                                                                       \n",
      "1                                                NaN                                                                       \n",
      "2                                                NaN                                                                       \n",
      "3                                                NaN                                                                       \n",
      "4                                                NaN                                                                       \n",
      "\n",
      "[5 rows x 23 columns]\n"
     ]
    }
   ],
   "source": [
    "# View the first 5 rows of the data\n",
    "print(df.head())"
   ]
  },
  {
   "cell_type": "code",
   "execution_count": 6,
   "id": "1c368b44",
   "metadata": {},
   "outputs": [
    {
     "name": "stdout",
     "output_type": "stream",
     "text": [
      "Timestamp                                                                                                                   object\n",
      "Age                                                                                                                        float64\n",
      "Gender                                                                                                                      object\n",
      "City                                                                                                                        object\n",
      "Position                                                                                                                    object\n",
      "Total years of experience                                                                                                   object\n",
      "Years of experience in Germany                                                                                              object\n",
      "Seniority level                                                                                                             object\n",
      "Your main technology / programming language                                                                                 object\n",
      "Other technologies/programming languages you use often                                                                      object\n",
      "Yearly brutto salary (without bonus and stocks) in EUR                                                                     float64\n",
      "Yearly bonus + stocks in EUR                                                                                                object\n",
      "Annual brutto salary (without bonus and stocks) one year ago. Only answer if staying in the same country                   float64\n",
      "Annual bonus+stocks one year ago. Only answer if staying in same country                                                    object\n",
      "Number of vacation days                                                                                                     object\n",
      "Employment status                                                                                                           object\n",
      "Сontract duration                                                                                                           object\n",
      "Main language at work                                                                                                       object\n",
      "Company size                                                                                                                object\n",
      "Company type                                                                                                                object\n",
      "Have you lost your job due to the coronavirus outbreak?                                                                     object\n",
      "Have you been forced to have a shorter working week (Kurzarbeit)? If yes, how many hours per week                          float64\n",
      "Have you received additional monetary support from your employer due to Work From Home? If yes, how much in 2020 in EUR     object\n",
      "dtype: object\n"
     ]
    }
   ],
   "source": [
    "# Check the data types of each column\n",
    "print(df.dtypes)"
   ]
  },
  {
   "cell_type": "code",
   "execution_count": null,
   "id": "c3085e06",
   "metadata": {},
   "outputs": [],
   "source": [
    "# Check for missing values\n",
    "print(df.isna().sum())"
   ]
  },
  {
   "cell_type": "code",
   "execution_count": 7,
   "id": "870303c2",
   "metadata": {},
   "outputs": [
    {
     "name": "stdout",
     "output_type": "stream",
     "text": [
      "               Age  Yearly brutto salary (without bonus and stocks) in EUR  \\\n",
      "count  1226.000000                                       1.253000e+03        \n",
      "mean     32.509788                                       8.027904e+07        \n",
      "std       5.663804                                       2.825061e+09        \n",
      "min      20.000000                                       1.000100e+04        \n",
      "25%      29.000000                                       5.880000e+04        \n",
      "50%      32.000000                                       7.000000e+04        \n",
      "75%      35.000000                                       8.000000e+04        \n",
      "max      69.000000                                       1.000000e+11        \n",
      "\n",
      "       Annual brutto salary (without bonus and stocks) one year ago. Only answer if staying in the same country  \\\n",
      "count                                       8.850000e+02                                                          \n",
      "mean                                        6.322459e+05                                                          \n",
      "std                                         1.680508e+07                                                          \n",
      "min                                         1.100000e+04                                                          \n",
      "25%                                         5.500000e+04                                                          \n",
      "50%                                         6.500000e+04                                                          \n",
      "75%                                         7.500000e+04                                                          \n",
      "max                                         5.000000e+08                                                          \n",
      "\n",
      "       Have you been forced to have a shorter working week (Kurzarbeit)? If yes, how many hours per week  \n",
      "count                                         373.000000                                                  \n",
      "mean                                           12.967828                                                  \n",
      "std                                            15.275174                                                  \n",
      "min                                             0.000000                                                  \n",
      "25%                                             0.000000                                                  \n",
      "50%                                             0.000000                                                  \n",
      "75%                                            30.000000                                                  \n",
      "max                                            40.000000                                                  \n"
     ]
    }
   ],
   "source": [
    "# Summary statistics\n",
    "print(df.describe())"
   ]
  },
  {
   "cell_type": "code",
   "execution_count": null,
   "id": "da6a20db",
   "metadata": {},
   "outputs": [],
   "source": []
  }
 ],
 "metadata": {
  "kernelspec": {
   "display_name": "Python 3 (ipykernel)",
   "language": "python",
   "name": "python3"
  },
  "language_info": {
   "codemirror_mode": {
    "name": "ipython",
    "version": 3
   },
   "file_extension": ".py",
   "mimetype": "text/x-python",
   "name": "python",
   "nbconvert_exporter": "python",
   "pygments_lexer": "ipython3",
   "version": "3.10.4"
  }
 },
 "nbformat": 4,
 "nbformat_minor": 5
}
